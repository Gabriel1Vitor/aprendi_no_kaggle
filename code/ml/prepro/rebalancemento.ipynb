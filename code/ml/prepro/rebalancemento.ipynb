{
  "nbformat": 4,
  "nbformat_minor": 0,
  "metadata": {
    "colab": {
      "provenance": []
    },
    "kernelspec": {
      "name": "python3",
      "display_name": "Python 3"
    },
    "language_info": {
      "name": "python"
    }
  },
  "cells": [
    {
      "cell_type": "code",
      "execution_count": null,
      "metadata": {
        "id": "B-yP9-4MtDHV"
      },
      "outputs": [],
      "source": [
        "import numpy as np\n",
        "import pandas as pd\n",
        "import matplotlib.pyplot as plt\n",
        "import seaborn as sns"
      ]
    },
    {
      "cell_type": "code",
      "source": [
        "train=pd.read_csv(\"/content/train.csv\")\n",
        "test=pd.read_csv(\"/content/test.csv\")\n",
        "sample=pd.read_csv(\"/content/sample_submission.csv\")"
      ],
      "metadata": {
        "id": "TP7TrESBtMxJ"
      },
      "execution_count": null,
      "outputs": []
    },
    {
      "cell_type": "code",
      "source": [
        "a=sample['Class']\n",
        "test['Class']=a"
      ],
      "metadata": {
        "id": "K-LmwhDGqng1"
      },
      "execution_count": null,
      "outputs": []
    },
    {
      "cell_type": "markdown",
      "source": [
        "'EK','Skewness','Mean_DMSNR_Curve','SD_DMSNR_Curve'"
      ],
      "metadata": {
        "id": "DvPihh5e6XSI"
      }
    },
    {
      "cell_type": "code",
      "source": [
        "import numpy as np\n",
        "from sklearn.utils import resample\n",
        "from sklearn.datasets import make_classification\n",
        "from sklearn.preprocessing import StandardScaler\n",
        "\n",
        "from imblearn.over_sampling import RandomOverSampler\n",
        "from imblearn.over_sampling import SMOTE\n",
        "from imblearn.over_sampling import BorderlineSMOTE\n",
        "from imblearn.over_sampling import SVMSMOTE\n",
        "from imblearn.over_sampling import ADASYN\n",
        "from imblearn.combine import SMOTETomek\n",
        "from imblearn.under_sampling import TomekLinks\n",
        "from imblearn.combine import SMOTEENN\n",
        "\n",
        "x= train.drop(['Class','id'],axis=1)\n",
        "y=train['Class']\n",
        "\n",
        "over_X_train, over_y_train = RandomOverSampler(sampling_strategy='minority').fit_resample(x, y)\n",
        "# SMOTE\n",
        "smote_X_train, smote_y_train = SMOTE().fit_resample(x,y)\n",
        "# Boderline-SMOTE\n",
        "bdlsmote_X_train, bdlsmote_y_train = BorderlineSMOTE().fit_resample(x, y)\n",
        "# Boderline-SMOTE SVM\n",
        "bdlSVMsmote_X_train, bdlSVMsmote_y_train = SVMSMOTE().fit_resample(x, y)\n",
        "# ADASYN\n",
        "adasyn_X_train, adasyn_y_train = ADASYN().fit_resample(x, y)\n",
        "# SMOTE-TomekLinks\n",
        "smotetomek_X_train, smotetomek_y_train = SMOTETomek(tomek=TomekLinks(sampling_strategy='majority')).fit_resample(x, y)\n",
        "# SMOTE-ENN\n",
        "smoteenn_X_train, smoteenn_y_train = SMOTEENN().fit_resample(x, y)\n"
      ],
      "metadata": {
        "id": "UX-5EXBrbZRA"
      },
      "execution_count": null,
      "outputs": []
    },
    {
      "cell_type": "code",
      "source": [
        "datasets = [x, y, over_X_train, over_y_train, smote_X_train, smote_y_train,\n",
        "            bdlsmote_X_train, bdlsmote_y_train, bdlSVMsmote_X_train, bdlSVMsmote_y_train, \n",
        "            adasyn_X_train, adasyn_y_train, smotetomek_X_train, smotetomek_y_train, \n",
        "            smoteenn_X_train, smoteenn_y_train]\n",
        "\n",
        "for dataset in datasets:\n",
        "    pd.DataFrame(dataset)"
      ],
      "metadata": {
        "id": "jhmK6Fg-n1Qb"
      },
      "execution_count": null,
      "outputs": []
    },
    {
      "cell_type": "code",
      "source": [
        "over_train_concat = pd.concat([over_X_train, over_y_train], axis=1)\n",
        "smote_train_concat = pd.concat([smote_X_train, smote_y_train], axis=1)\n",
        "bdlsmote_train_concat = pd.concat([bdlsmote_X_train, bdlsmote_y_train], axis=1)\n",
        "bdlSVMsmote_train_concat = pd.concat([bdlSVMsmote_X_train, bdlSVMsmote_y_train], axis=1)\n",
        "adasyn_train_concat = pd.concat([adasyn_X_train, adasyn_y_train], axis=1)\n",
        "smotetomek_train_concat = pd.concat([smotetomek_X_train, smotetomek_y_train], axis=1)\n",
        "smoteenn_train_concat = pd.concat([smoteenn_X_train, smoteenn_y_train], axis=1)"
      ],
      "metadata": {
        "id": "wAy0wpBXn64d"
      },
      "execution_count": null,
      "outputs": []
    },
    {
      "cell_type": "code",
      "source": [
        "over_X_train, over_y_train = RandomOverSampler(sampling_strategy='minority').fit_resample(x, y)\n",
        "# SMOTE\n",
        "smote_X_train, smote_y_train = SMOTE().fit_resample(x,y)\n",
        "# Boderline-SMOTE\n",
        "bdlsmote_X_train, bdlsmote_y_train = BorderlineSMOTE().fit_resample(x, y)\n",
        "# Boderline-SMOTE SVM\n",
        "bdlSVMsmote_X_train, bdlSVMsmote_y_train = SVMSMOTE().fit_resample(x, y)\n",
        "# ADASYN\n",
        "adasyn_X_train, adasyn_y_train = ADASYN().fit_resample(x, y)\n",
        "# SMOTE-TomekLinks\n",
        "smotetomek_X_train, smotetomek_y_train = SMOTETomek(tomek=TomekLinks(sampling_strategy='majority')).fit_resample(x, y)\n",
        "# SMOTE-ENN\n",
        "smoteenn_X_train, smoteenn_y_train = SMOTEENN().fit_resample(x, y)"
      ],
      "metadata": {
        "id": "u_rnMZWzoIB6"
      },
      "execution_count": null,
      "outputs": []
    },
    {
      "cell_type": "code",
      "source": [
        "print(\"Random Oversampling\\n\", over_y_train.value_counts())\n",
        "# SMOTE\n",
        "print(\"SMOTE\\n\", smote_y_train.value_counts())\n",
        "# Boderline-SMOTE\n",
        "print(\"Borderline-SMOTE\\n\", bdlsmote_y_train.value_counts())\n",
        "# Boderline-SMOTE SVM\n",
        "print(\"Borderline-SMOTE SVM\\n\", bdlSVMsmote_y_train.value_counts())\n",
        "# ADASYN\n",
        "print(\"ADASYN\\n\", adasyn_y_train.value_counts())\n",
        "# SMOTE-TomekLinks\n",
        "print(\"SMOTE-TomekLinks\\n\", smotetomek_y_train.value_counts())\n",
        "# SMOTE-ENN\n",
        "print(\"SMOTE-ENN\\n\", smoteenn_y_train.value_counts())"
      ],
      "metadata": {
        "colab": {
          "base_uri": "https://localhost:8080/"
        },
        "id": "1pscIHIwpdN5",
        "outputId": "bcdbc186-a29b-40ea-b2d6-14e766ea655d"
      },
      "execution_count": null,
      "outputs": [
        {
          "output_type": "stream",
          "name": "stdout",
          "text": [
            "Random Oversampling\n",
            " 0    106597\n",
            "1    106597\n",
            "Name: Class, dtype: int64\n",
            "SMOTE\n",
            " 0    106597\n",
            "1    106597\n",
            "Name: Class, dtype: int64\n",
            "Borderline-SMOTE\n",
            " 0    106597\n",
            "1    106597\n",
            "Name: Class, dtype: int64\n",
            "Borderline-SMOTE SVM\n",
            " 0    106597\n",
            "1    106597\n",
            "Name: Class, dtype: int64\n",
            "ADASYN\n",
            " 1    107023\n",
            "0    106597\n",
            "Name: Class, dtype: int64\n",
            "SMOTE-TomekLinks\n",
            " 1    106597\n",
            "0    106405\n",
            "Name: Class, dtype: int64\n",
            "SMOTE-ENN\n",
            " 1    105504\n",
            "0    102628\n",
            "Name: Class, dtype: int64\n"
          ]
        }
      ]
    },
    {
      "cell_type": "code",
      "source": [
        "plt.hist(smoteenn_y_train)"
      ],
      "metadata": {
        "colab": {
          "base_uri": "https://localhost:8080/",
          "height": 333
        },
        "id": "aO4yyWG5g2mJ",
        "outputId": "ee6dc424-f174-4f3e-eaeb-8d80fe758f9e"
      },
      "execution_count": null,
      "outputs": [
        {
          "output_type": "execute_result",
          "data": {
            "text/plain": [
              "(array([102628.,      0.,      0.,      0.,      0.,      0.,      0.,\n",
              "             0.,      0., 105504.]),\n",
              " array([0. , 0.1, 0.2, 0.3, 0.4, 0.5, 0.6, 0.7, 0.8, 0.9, 1. ]),\n",
              " <BarContainer object of 10 artists>)"
            ]
          },
          "metadata": {},
          "execution_count": 38
        },
        {
          "output_type": "display_data",
          "data": {
            "text/plain": [
              "<Figure size 432x288 with 1 Axes>"
            ],
            "image/png": "[encoded data removed]"
          },
          "metadata": {
            "needs_background": "light"
          }
        }
      ]
    }
  ]
}