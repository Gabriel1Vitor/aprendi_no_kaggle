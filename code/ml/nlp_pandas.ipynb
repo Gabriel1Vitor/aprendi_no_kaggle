{
  "cells": [
    {
      "cell_type": "code",
      "execution_count": null,
      "metadata": {
        "id": "VqWY1Cz1FyzV"
      },
      "outputs": [],
      "source": [
        "import numpy as np \n",
        "import pandas as pd"
      ]
    },
    {
      "cell_type": "code",
      "execution_count": null,
      "metadata": {
        "id": "ggzAueTDPq5M"
      },
      "outputs": [],
      "source": [
        "from sklearn.feature_extraction.text import CountVectorizer\n",
        "from sklearn.cluster import KMeans,DBSCAN,SpectralClustering\n",
        "from sklearn.decomposition import LatentDirichletAllocation as LDA\n",
        "from sklearn.model_selection import train_test_split"
      ]
    },
    {
      "cell_type": "code",
      "execution_count": null,
      "metadata": {
        "id": "CQGstrTgGCYR"
      },
      "outputs": [],
      "source": [
        "train=pd.read_csv(\"/content/drive/MyDrive/livro/goodreads_train.csv\")\n",
        "test=pd.read_csv(\"/content/drive/MyDrive/livro/goodreads_test.csv\")\n",
        "sample=pd.read_csv(\"/content/drive/MyDrive/livro/goodreads_sample_submission.csv\")"
      ]
    },
    {
      "cell_type": "code",
      "execution_count": null,
      "metadata": {
        "colab": {
          "base_uri": "https://localhost:8080/"
        },
        "id": "D-ld8DGZciQ3",
        "outputId": "f60c95f3-eed8-4a43-c762-90d4b2fabe18"
      },
      "outputs": [
        {
          "name": "stdout",
          "output_type": "stream",
          "text": [
            "<class 'pandas.core.frame.DataFrame'>\n",
            "RangeIndex: 900000 entries, 0 to 899999\n",
            "Data columns (total 11 columns):\n",
            " #   Column        Non-Null Count   Dtype \n",
            "---  ------        --------------   ----- \n",
            " 0   user_id       900000 non-null  object\n",
            " 1   book_id       900000 non-null  int64 \n",
            " 2   review_id     900000 non-null  object\n",
            " 3   rating        900000 non-null  int64 \n",
            " 4   review_text   900000 non-null  object\n",
            " 5   date_added    900000 non-null  object\n",
            " 6   date_updated  900000 non-null  object\n",
            " 7   read_at       808234 non-null  object\n",
            " 8   started_at    625703 non-null  object\n",
            " 9   n_votes       900000 non-null  int64 \n",
            " 10  n_comments    900000 non-null  int64 \n",
            "dtypes: int64(4), object(7)\n",
            "memory usage: 75.5+ MB\n"
          ]
        }
      ],
      "source": [
        "train.info()"
      ]
    },
    {
      "cell_type": "code",
      "execution_count": null,
      "metadata": {
        "id": "Lip-WM9vRN0O"
      },
      "outputs": [],
      "source": [
        "lista=['review_text','n_votes','n_comments']\n",
        "\n",
        "x=train[lista]\n",
        "y=train[\"rating\"]\n",
        "\n",
        "xtrain,xval,ytr,yval=train_test_split(x,y,train_size=0.4)\n",
        "train1=xtrain\n",
        "\n",
        "xts= test[lista]\n",
        "xtr=train1\n",
        "xtr=pd.DataFrame(xtr)\n",
        "xts=pd.DataFrame(xts)"
      ]
    },
    {
      "cell_type": "code",
      "execution_count": null,
      "metadata": {
        "colab": {
          "base_uri": "https://localhost:8080/"
        },
        "id": "SfxNSRYqJ02v",
        "outputId": "239e54eb-55e7-471a-8989-40923448fc43"
      },
      "outputs": [
        {
          "name": "stdout",
          "output_type": "stream",
          "text": [
            "<class 'pandas.core.frame.DataFrame'>\n",
            "Int64Index: 360000 entries, 580680 to 730905\n",
            "Data columns (total 3 columns):\n",
            " #   Column       Non-Null Count   Dtype \n",
            "---  ------       --------------   ----- \n",
            " 0   review_text  360000 non-null  object\n",
            " 1   n_votes      360000 non-null  int64 \n",
            " 2   n_comments   360000 non-null  int64 \n",
            "dtypes: int64(2), object(1)\n",
            "memory usage: 11.0+ MB\n"
          ]
        }
      ],
      "source": [
        "xtr.info()"
      ]
    },
    {
      "cell_type": "code",
      "execution_count": null,
      "metadata": {
        "id": "H0tJ6IdGQWKl"
      },
      "outputs": [],
      "source": [
        "bag_tranf=CountVectorizer(min_df=2,stop_words=\"english\",ngram_range=(1,1))\n",
        "mx=bag_tranf.fit_transform(xts[\"review_text\"])"
      ]
    },
    {
      "cell_type": "code",
      "execution_count": null,
      "metadata": {
        "colab": {
          "base_uri": "https://localhost:8080/"
        },
        "id": "8QSc3F-Gh1lv",
        "outputId": "7237cff2-bd22-47f9-ae12-307d458bd4bf"
      },
      "outputs": [
        {
          "name": "stdout",
          "output_type": "stream",
          "text": [
            "                                              review_text\n",
            "131339  books 2, 3 & 4 available nypl but NOT THIS ONE...\n",
            "133606  I've had this book since the day it released a...\n",
            "546888  Book 3 in the series. This one is about Mia, t...\n",
            "103452  I was gonna give this book 3 stars, until I re...\n",
            "593898  CAUTION MAY CONTAIN COMPLETE RAMBLING! \\n OMG!...\n",
            "...                                                   ...\n",
            "497900  I was skeptical to read this and only did so a...\n",
            "215606  A cute steampunk mashup of Shakespeare and Osc...\n",
            "552220  The second book in the Body Finder series. Aga...\n",
            "822221  When I was sent the synopsis for this book, th...\n",
            "686401  An extremely fast read, it really only took 4 ...\n",
            "\n",
            "[360000 rows x 1 columns]\n"
          ]
        }
      ],
      "source": [
        "print(xtr)"
      ]
    },
    {
      "cell_type": "code",
      "execution_count": null,
      "metadata": {
        "colab": {
          "background_save": true
        },
        "id": "maxzHSmHJ7dp",
        "outputId": "69ef4522-2a6f-4d37-836b-e9913a168ce5"
      },
      "outputs": [
        {
          "data": {
            "text/plain": [
              "LatentDirichletAllocation(random_state=0)"
            ]
          },
          "execution_count": 42,
          "metadata": {},
          "output_type": "execute_result"
        }
      ],
      "source": [
        "lda=LDA(random_state=0)\n",
        "lda.fit(mx)"
      ]
    },
    {
      "cell_type": "code",
      "execution_count": null,
      "metadata": {
        "id": "x-udmyiTX_7o"
      },
      "outputs": [],
      "source": [
        "docs=xtr[\"review_text\"][ : ]\n",
        "data=[ ]\n",
        "for doc in docs:\n",
        "    data.append(lda.transform(bag_tranf.transform([doc])))\n",
        "\n",
        "cols=['topic'+str(i) for i in range(1,11)]\n",
        "\n",
        "#linhas da tabela e quandas colunas o clusters sao \n",
        "xtr1=pd.DataFrame(columns=cols,data=np.array(data).reshape((360000,10)))"
      ]
    },
    {
      "cell_type": "code",
      "execution_count": null,
      "metadata": {
        "id": "lr_IgOOIJSLO"
      },
      "outputs": [],
      "source": [
        "docs=xts[\"review_text\"][ : ]\n",
        "data=[ ]\n",
        "for doc in docs:\n",
        "    data.append(lda.transform(bag_tranf.transform([doc])))\n",
        "\n",
        "cols=['topic'+str(i) for i in range(1,11)]\n",
        "\n",
        "xts1=pd.DataFrame(columns=cols,data=np.array(data).reshape((478033,10)))\n"
      ]
    },
    {
      "cell_type": "code",
      "execution_count": null,
      "metadata": {
        "colab": {
          "base_uri": "https://localhost:8080/",
          "height": 419
        },
        "id": "UT_IrsZPclND",
        "outputId": "b324c819-784f-4304-facb-74a5d082b3e0"
      },
      "outputs": [
        {
          "data": {
            "text/html": [
              "\n",
              "  <div id=\"df-3ac4de65-499b-48ed-aa4a-7db2f647c4bf\">\n",
              "    <div class=\"colab-df-container\">\n",
              "      <div>\n",
              "<style scoped>\n",
              "    .dataframe tbody tr th:only-of-type {\n",
              "        vertical-align: middle;\n",
              "    }\n",
              "\n",
              "    .dataframe tbody tr th {\n",
              "        vertical-align: top;\n",
              "    }\n",
              "\n",
              "    .dataframe thead th {\n",
              "        text-align: right;\n",
              "    }\n",
              "</style>\n",
              "<table border=\"1\" class=\"dataframe\">\n",
              "  <thead>\n",
              "    <tr style=\"text-align: right;\">\n",
              "      <th></th>\n",
              "      <th>topic1</th>\n",
              "      <th>topic2</th>\n",
              "      <th>topic3</th>\n",
              "      <th>topic4</th>\n",
              "      <th>topic5</th>\n",
              "      <th>topic6</th>\n",
              "      <th>topic7</th>\n",
              "      <th>topic8</th>\n",
              "      <th>topic9</th>\n",
              "      <th>topic10</th>\n",
              "    </tr>\n",
              "  </thead>\n",
              "  <tbody>\n",
              "    <tr>\n",
              "      <th>9</th>\n",
              "      <td>0.003572</td>\n",
              "      <td>0.003573</td>\n",
              "      <td>0.152835</td>\n",
              "      <td>0.318463</td>\n",
              "      <td>0.503695</td>\n",
              "      <td>0.003572</td>\n",
              "      <td>0.003573</td>\n",
              "      <td>0.003572</td>\n",
              "      <td>0.003572</td>\n",
              "      <td>0.003573</td>\n",
              "    </tr>\n",
              "    <tr>\n",
              "      <th>10</th>\n",
              "      <td>0.033346</td>\n",
              "      <td>0.699929</td>\n",
              "      <td>0.033339</td>\n",
              "      <td>0.033340</td>\n",
              "      <td>0.033338</td>\n",
              "      <td>0.033338</td>\n",
              "      <td>0.033346</td>\n",
              "      <td>0.033345</td>\n",
              "      <td>0.033337</td>\n",
              "      <td>0.033342</td>\n",
              "    </tr>\n",
              "    <tr>\n",
              "      <th>11</th>\n",
              "      <td>0.002858</td>\n",
              "      <td>0.249340</td>\n",
              "      <td>0.002858</td>\n",
              "      <td>0.002858</td>\n",
              "      <td>0.002858</td>\n",
              "      <td>0.002858</td>\n",
              "      <td>0.169445</td>\n",
              "      <td>0.561210</td>\n",
              "      <td>0.002858</td>\n",
              "      <td>0.002858</td>\n",
              "    </tr>\n",
              "    <tr>\n",
              "      <th>12</th>\n",
              "      <td>0.020005</td>\n",
              "      <td>0.020002</td>\n",
              "      <td>0.020002</td>\n",
              "      <td>0.819977</td>\n",
              "      <td>0.020001</td>\n",
              "      <td>0.020004</td>\n",
              "      <td>0.020003</td>\n",
              "      <td>0.020003</td>\n",
              "      <td>0.020001</td>\n",
              "      <td>0.020002</td>\n",
              "    </tr>\n",
              "    <tr>\n",
              "      <th>13</th>\n",
              "      <td>0.660002</td>\n",
              "      <td>0.002273</td>\n",
              "      <td>0.002273</td>\n",
              "      <td>0.321810</td>\n",
              "      <td>0.002273</td>\n",
              "      <td>0.002274</td>\n",
              "      <td>0.002274</td>\n",
              "      <td>0.002273</td>\n",
              "      <td>0.002274</td>\n",
              "      <td>0.002274</td>\n",
              "    </tr>\n",
              "    <tr>\n",
              "      <th>...</th>\n",
              "      <td>...</td>\n",
              "      <td>...</td>\n",
              "      <td>...</td>\n",
              "      <td>...</td>\n",
              "      <td>...</td>\n",
              "      <td>...</td>\n",
              "      <td>...</td>\n",
              "      <td>...</td>\n",
              "      <td>...</td>\n",
              "      <td>...</td>\n",
              "    </tr>\n",
              "    <tr>\n",
              "      <th>359995</th>\n",
              "      <td>0.050960</td>\n",
              "      <td>0.330556</td>\n",
              "      <td>0.001667</td>\n",
              "      <td>0.343420</td>\n",
              "      <td>0.001667</td>\n",
              "      <td>0.001667</td>\n",
              "      <td>0.265062</td>\n",
              "      <td>0.001667</td>\n",
              "      <td>0.001667</td>\n",
              "      <td>0.001667</td>\n",
              "    </tr>\n",
              "    <tr>\n",
              "      <th>359996</th>\n",
              "      <td>0.002174</td>\n",
              "      <td>0.002174</td>\n",
              "      <td>0.002174</td>\n",
              "      <td>0.235559</td>\n",
              "      <td>0.002175</td>\n",
              "      <td>0.002174</td>\n",
              "      <td>0.264465</td>\n",
              "      <td>0.484755</td>\n",
              "      <td>0.002174</td>\n",
              "      <td>0.002175</td>\n",
              "    </tr>\n",
              "    <tr>\n",
              "      <th>359997</th>\n",
              "      <td>0.016669</td>\n",
              "      <td>0.016670</td>\n",
              "      <td>0.016671</td>\n",
              "      <td>0.601816</td>\n",
              "      <td>0.016668</td>\n",
              "      <td>0.264829</td>\n",
              "      <td>0.016671</td>\n",
              "      <td>0.016668</td>\n",
              "      <td>0.016668</td>\n",
              "      <td>0.016671</td>\n",
              "    </tr>\n",
              "    <tr>\n",
              "      <th>359998</th>\n",
              "      <td>0.006252</td>\n",
              "      <td>0.006251</td>\n",
              "      <td>0.006253</td>\n",
              "      <td>0.006251</td>\n",
              "      <td>0.006251</td>\n",
              "      <td>0.006251</td>\n",
              "      <td>0.006252</td>\n",
              "      <td>0.693566</td>\n",
              "      <td>0.256422</td>\n",
              "      <td>0.006251</td>\n",
              "    </tr>\n",
              "    <tr>\n",
              "      <th>359999</th>\n",
              "      <td>0.007694</td>\n",
              "      <td>0.416189</td>\n",
              "      <td>0.007695</td>\n",
              "      <td>0.007694</td>\n",
              "      <td>0.007694</td>\n",
              "      <td>0.130762</td>\n",
              "      <td>0.399190</td>\n",
              "      <td>0.007693</td>\n",
              "      <td>0.007694</td>\n",
              "      <td>0.007695</td>\n",
              "    </tr>\n",
              "  </tbody>\n",
              "</table>\n",
              "<p>359991 rows × 10 columns</p>\n",
              "</div>\n",
              "      <button class=\"colab-df-convert\" onclick=\"convertToInteractive('df-3ac4de65-499b-48ed-aa4a-7db2f647c4bf')\"\n",
              "              title=\"Convert this dataframe to an interactive table.\"\n",
              "              style=\"display:none;\">\n",
              "        \n",
              "  <svg xmlns=\"http://www.w3.org/2000/svg\" height=\"24px\"viewBox=\"0 0 24 24\"\n",
              "       width=\"24px\">\n",
              "    <path d=\"M0 0h24v24H0V0z\" fill=\"none\"/>\n",
              "    <path d=\"M18.56 5.44l.94 2.06.94-2.06 2.06-.94-2.06-.94-.94-2.06-.94 2.06-2.06.94zm-11 1L8.5 8.5l.94-2.06 2.06-.94-2.06-.94L8.5 2.5l-.94 2.06-2.06.94zm10 10l.94 2.06.94-2.06 2.06-.94-2.06-.94-.94-2.06-.94 2.06-2.06.94z\"/><path d=\"M17.41 7.96l-1.37-1.37c-.4-.4-.92-.59-1.43-.59-.52 0-1.04.2-1.43.59L10.3 9.45l-7.72 7.72c-.78.78-.78 2.05 0 2.83L4 21.41c.39.39.9.59 1.41.59.51 0 1.02-.2 1.41-.59l7.78-7.78 2.81-2.81c.8-.78.8-2.07 0-2.86zM5.41 20L4 18.59l7.72-7.72 1.47 1.35L5.41 20z\"/>\n",
              "  </svg>\n",
              "      </button>\n",
              "      \n",
              "  <style>\n",
              "    .colab-df-container {\n",
              "      display:flex;\n",
              "      flex-wrap:wrap;\n",
              "      gap: 12px;\n",
              "    }\n",
              "\n",
              "    .colab-df-convert {\n",
              "      background-color: #E8F0FE;\n",
              "      border: none;\n",
              "      border-radius: 50%;\n",
              "      cursor: pointer;\n",
              "      display: none;\n",
              "      fill: #1967D2;\n",
              "      height: 32px;\n",
              "      padding: 0 0 0 0;\n",
              "      width: 32px;\n",
              "    }\n",
              "\n",
              "    .colab-df-convert:hover {\n",
              "      background-color: #E2EBFA;\n",
              "      box-shadow: 0px 1px 2px rgba(60, 64, 67, 0.3), 0px 1px 3px 1px rgba(60, 64, 67, 0.15);\n",
              "      fill: #174EA6;\n",
              "    }\n",
              "\n",
              "    [theme=dark] .colab-df-convert {\n",
              "      background-color: #3B4455;\n",
              "      fill: #D2E3FC;\n",
              "    }\n",
              "\n",
              "    [theme=dark] .colab-df-convert:hover {\n",
              "      background-color: #434B5C;\n",
              "      box-shadow: 0px 1px 3px 1px rgba(0, 0, 0, 0.15);\n",
              "      filter: drop-shadow(0px 1px 2px rgba(0, 0, 0, 0.3));\n",
              "      fill: #FFFFFF;\n",
              "    }\n",
              "  </style>\n",
              "\n",
              "      <script>\n",
              "        const buttonEl =\n",
              "          document.querySelector('#df-3ac4de65-499b-48ed-aa4a-7db2f647c4bf button.colab-df-convert');\n",
              "        buttonEl.style.display =\n",
              "          google.colab.kernel.accessAllowed ? 'block' : 'none';\n",
              "\n",
              "        async function convertToInteractive(key) {\n",
              "          const element = document.querySelector('#df-3ac4de65-499b-48ed-aa4a-7db2f647c4bf');\n",
              "          const dataTable =\n",
              "            await google.colab.kernel.invokeFunction('convertToInteractive',\n",
              "                                                     [key], {});\n",
              "          if (!dataTable) return;\n",
              "\n",
              "          const docLinkHtml = 'Like what you see? Visit the ' +\n",
              "            '<a target=\"_blank\" href=https://colab.research.google.com/notebooks/data_table.ipynb>data table notebook</a>'\n",
              "            + ' to learn more about interactive tables.';\n",
              "          element.innerHTML = '';\n",
              "          dataTable['output_type'] = 'display_data';\n",
              "          await google.colab.output.renderOutput(dataTable, element);\n",
              "          const docLink = document.createElement('div');\n",
              "          docLink.innerHTML = docLinkHtml;\n",
              "          element.appendChild(docLink);\n",
              "        }\n",
              "      </script>\n",
              "    </div>\n",
              "  </div>\n",
              "  "
            ],
            "text/plain": [
              "          topic1    topic2    topic3    topic4    topic5    topic6    topic7  \\\n",
              "9       0.003572  0.003573  0.152835  0.318463  0.503695  0.003572  0.003573   \n",
              "10      0.033346  0.699929  0.033339  0.033340  0.033338  0.033338  0.033346   \n",
              "11      0.002858  0.249340  0.002858  0.002858  0.002858  0.002858  0.169445   \n",
              "12      0.020005  0.020002  0.020002  0.819977  0.020001  0.020004  0.020003   \n",
              "13      0.660002  0.002273  0.002273  0.321810  0.002273  0.002274  0.002274   \n",
              "...          ...       ...       ...       ...       ...       ...       ...   \n",
              "359995  0.050960  0.330556  0.001667  0.343420  0.001667  0.001667  0.265062   \n",
              "359996  0.002174  0.002174  0.002174  0.235559  0.002175  0.002174  0.264465   \n",
              "359997  0.016669  0.016670  0.016671  0.601816  0.016668  0.264829  0.016671   \n",
              "359998  0.006252  0.006251  0.006253  0.006251  0.006251  0.006251  0.006252   \n",
              "359999  0.007694  0.416189  0.007695  0.007694  0.007694  0.130762  0.399190   \n",
              "\n",
              "          topic8    topic9   topic10  \n",
              "9       0.003572  0.003572  0.003573  \n",
              "10      0.033345  0.033337  0.033342  \n",
              "11      0.561210  0.002858  0.002858  \n",
              "12      0.020003  0.020001  0.020002  \n",
              "13      0.002273  0.002274  0.002274  \n",
              "...          ...       ...       ...  \n",
              "359995  0.001667  0.001667  0.001667  \n",
              "359996  0.484755  0.002174  0.002175  \n",
              "359997  0.016668  0.016668  0.016671  \n",
              "359998  0.693566  0.256422  0.006251  \n",
              "359999  0.007693  0.007694  0.007695  \n",
              "\n",
              "[359991 rows x 10 columns]"
            ]
          },
          "execution_count": 8,
          "metadata": {},
          "output_type": "execute_result"
        }
      ],
      "source": [
        "xtr1.tail(-9)"
      ]
    },
    {
      "cell_type": "code",
      "execution_count": null,
      "metadata": {
        "colab": {
          "base_uri": "https://localhost:8080/"
        },
        "id": "KX6mhCX5-aSc",
        "outputId": "3f77893d-34af-4a52-b947-db219dc46091"
      },
      "outputs": [
        {
          "data": {
            "text/plain": [
              "array([4, 4, 7, ..., 4, 7, 6], dtype=int32)"
            ]
          },
          "execution_count": 18,
          "metadata": {},
          "output_type": "execute_result"
        }
      ],
      "source": [
        "cluster = KMeans(random_state=0)\n",
        "cluster.fit(mx)\n",
        "cluster.predict(mx)"
      ]
    },
    {
      "cell_type": "code",
      "execution_count": null,
      "metadata": {
        "id": "x2hpp2O_-hig"
      },
      "outputs": [],
      "source": [
        "docs=xts[\"review_text\"][ : ]\n",
        "data=[ ]\n",
        "for doc in docs:\n",
        "    data.append(cluster.transform(bag_tranf.transform([doc])))\n",
        "\n",
        "cols=['topic'+str(i) for i in range(1,9)]\n",
        "\n",
        "xts1=pd.DataFrame(columns=cols,data=np.array(data).reshape((478033,8)))"
      ]
    },
    {
      "cell_type": "code",
      "execution_count": null,
      "metadata": {
        "id": "LKz-bug6-lE6"
      },
      "outputs": [],
      "source": [
        "docs=xtr[\"review_text\"][ : ]\n",
        "data=[ ]\n",
        "for doc in docs:\n",
        "    data.append(cluster.transform(bag_tranf.transform([doc])))\n",
        "\n",
        "cols=['topic'+str(i) for i in range(1,9)]\n",
        "\n",
        "xtr1=pd.DataFrame(columns=cols,data=np.array(data).reshape((360000,8)))"
      ]
    }
  ],
  "metadata": {
    "colab": {
      "provenance": []
    },
    "kernelspec": {
      "display_name": "Python 3",
      "name": "python3"
    },
    "language_info": {
      "name": "python"
    }
  },
  "nbformat": 4,
  "nbformat_minor": 0
}