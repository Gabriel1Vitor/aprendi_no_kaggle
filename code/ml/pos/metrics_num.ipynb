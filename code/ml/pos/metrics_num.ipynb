{
  "nbformat": 4,
  "nbformat_minor": 0,
  "metadata": {
    "colab": {
      "provenance": []
    },
    "kernelspec": {
      "name": "python3",
      "display_name": "Python 3"
    },
    "language_info": {
      "name": "python"
    }
  },
  "cells": [
    {
      "cell_type": "code",
      "execution_count": null,
      "metadata": {
        "id": "XIU88tMTu4bG"
      },
      "outputs": [],
      "source": [
        "import numpy as np\n",
        "import pandas as pd"
      ]
    },
    {
      "cell_type": "code",
      "source": [
        "train = pd.read_csv('/content/train.csv')\n",
        "test = pd.read_csv('/content/test.csv')\n",
        "sample = pd.read_csv('/content/sample_submission.csv')"
      ],
      "metadata": {
        "id": "p6igFGuqvJo0"
      },
      "execution_count": null,
      "outputs": []
    },
    {
      "cell_type": "code",
      "source": [
        "train.tail()"
      ],
      "metadata": {
        "colab": {
          "base_uri": "https://localhost:8080/",
          "height": 204
        },
        "id": "rKz3bNz6vj_L",
        "outputId": "d6220a2c-3343-4e06-d525-0cd24facb76d"
      },
      "execution_count": null,
      "outputs": [
        {
          "output_type": "execute_result",
          "data": {
            "text/plain": [
              "      id  gravity    ph  osmo  cond  urea  calc  target\n",
              "409  409    1.011  5.21   527  21.4    75  1.53       0\n",
              "410  410    1.024  5.53   577  19.7   224  0.77       0\n",
              "411  411    1.018  6.28   455  22.2   270  7.68       1\n",
              "412  412    1.008  7.12   325  12.6    75  1.03       1\n",
              "413  413    1.011  6.13   364   9.9   159  0.27       0"
            ],
            "text/html": [
              "\n",
              "  <div id=\"df-6b9651c2-cec5-4ca5-8bd6-bb0b29313290\">\n",
              "    <div class=\"colab-df-container\">\n",
              "      <div>\n",
              "<style scoped>\n",
              "    .dataframe tbody tr th:only-of-type {\n",
              "        vertical-align: middle;\n",
              "    }\n",
              "\n",
              "    .dataframe tbody tr th {\n",
              "        vertical-align: top;\n",
              "    }\n",
              "\n",
              "    .dataframe thead th {\n",
              "        text-align: right;\n",
              "    }\n",
              "</style>\n",
              "<table border=\"1\" class=\"dataframe\">\n",
              "  <thead>\n",
              "    <tr style=\"text-align: right;\">\n",
              "      <th></th>\n",
              "      <th>id</th>\n",
              "      <th>gravity</th>\n",
              "      <th>ph</th>\n",
              "      <th>osmo</th>\n",
              "      <th>cond</th>\n",
              "      <th>urea</th>\n",
              "      <th>calc</th>\n",
              "      <th>target</th>\n",
              "    </tr>\n",
              "  </thead>\n",
              "  <tbody>\n",
              "    <tr>\n",
              "      <th>409</th>\n",
              "      <td>409</td>\n",
              "      <td>1.011</td>\n",
              "      <td>5.21</td>\n",
              "      <td>527</td>\n",
              "      <td>21.4</td>\n",
              "      <td>75</td>\n",
              "      <td>1.53</td>\n",
              "      <td>0</td>\n",
              "    </tr>\n",
              "    <tr>\n",
              "      <th>410</th>\n",
              "      <td>410</td>\n",
              "      <td>1.024</td>\n",
              "      <td>5.53</td>\n",
              "      <td>577</td>\n",
              "      <td>19.7</td>\n",
              "      <td>224</td>\n",
              "      <td>0.77</td>\n",
              "      <td>0</td>\n",
              "    </tr>\n",
              "    <tr>\n",
              "      <th>411</th>\n",
              "      <td>411</td>\n",
              "      <td>1.018</td>\n",
              "      <td>6.28</td>\n",
              "      <td>455</td>\n",
              "      <td>22.2</td>\n",
              "      <td>270</td>\n",
              "      <td>7.68</td>\n",
              "      <td>1</td>\n",
              "    </tr>\n",
              "    <tr>\n",
              "      <th>412</th>\n",
              "      <td>412</td>\n",
              "      <td>1.008</td>\n",
              "      <td>7.12</td>\n",
              "      <td>325</td>\n",
              "      <td>12.6</td>\n",
              "      <td>75</td>\n",
              "      <td>1.03</td>\n",
              "      <td>1</td>\n",
              "    </tr>\n",
              "    <tr>\n",
              "      <th>413</th>\n",
              "      <td>413</td>\n",
              "      <td>1.011</td>\n",
              "      <td>6.13</td>\n",
              "      <td>364</td>\n",
              "      <td>9.9</td>\n",
              "      <td>159</td>\n",
              "      <td>0.27</td>\n",
              "      <td>0</td>\n",
              "    </tr>\n",
              "  </tbody>\n",
              "</table>\n",
              "</div>\n",
              "      <button class=\"colab-df-convert\" onclick=\"convertToInteractive('df-6b9651c2-cec5-4ca5-8bd6-bb0b29313290')\"\n",
              "              title=\"Convert this dataframe to an interactive table.\"\n",
              "              style=\"display:none;\">\n",
              "        \n",
              "  <svg xmlns=\"http://www.w3.org/2000/svg\" height=\"24px\"viewBox=\"0 0 24 24\"\n",
              "       width=\"24px\">\n",
              "    <path d=\"M0 0h24v24H0V0z\" fill=\"none\"/>\n",
              "    <path d=\"M18.56 5.44l.94 2.06.94-2.06 2.06-.94-2.06-.94-.94-2.06-.94 2.06-2.06.94zm-11 1L8.5 8.5l.94-2.06 2.06-.94-2.06-.94L8.5 2.5l-.94 2.06-2.06.94zm10 10l.94 2.06.94-2.06 2.06-.94-2.06-.94-.94-2.06-.94 2.06-2.06.94z\"/><path d=\"M17.41 7.96l-1.37-1.37c-.4-.4-.92-.59-1.43-.59-.52 0-1.04.2-1.43.59L10.3 9.45l-7.72 7.72c-.78.78-.78 2.05 0 2.83L4 21.41c.39.39.9.59 1.41.59.51 0 1.02-.2 1.41-.59l7.78-7.78 2.81-2.81c.8-.78.8-2.07 0-2.86zM5.41 20L4 18.59l7.72-7.72 1.47 1.35L5.41 20z\"/>\n",
              "  </svg>\n",
              "      </button>\n",
              "      \n",
              "  <style>\n",
              "    .colab-df-container {\n",
              "      display:flex;\n",
              "      flex-wrap:wrap;\n",
              "      gap: 12px;\n",
              "    }\n",
              "\n",
              "    .colab-df-convert {\n",
              "      background-color: #E8F0FE;\n",
              "      border: none;\n",
              "      border-radius: 50%;\n",
              "      cursor: pointer;\n",
              "      display: none;\n",
              "      fill: #1967D2;\n",
              "      height: 32px;\n",
              "      padding: 0 0 0 0;\n",
              "      width: 32px;\n",
              "    }\n",
              "\n",
              "    .colab-df-convert:hover {\n",
              "      background-color: #E2EBFA;\n",
              "      box-shadow: 0px 1px 2px rgba(60, 64, 67, 0.3), 0px 1px 3px 1px rgba(60, 64, 67, 0.15);\n",
              "      fill: #174EA6;\n",
              "    }\n",
              "\n",
              "    [theme=dark] .colab-df-convert {\n",
              "      background-color: #3B4455;\n",
              "      fill: #D2E3FC;\n",
              "    }\n",
              "\n",
              "    [theme=dark] .colab-df-convert:hover {\n",
              "      background-color: #434B5C;\n",
              "      box-shadow: 0px 1px 3px 1px rgba(0, 0, 0, 0.15);\n",
              "      filter: drop-shadow(0px 1px 2px rgba(0, 0, 0, 0.3));\n",
              "      fill: #FFFFFF;\n",
              "    }\n",
              "  </style>\n",
              "\n",
              "      <script>\n",
              "        const buttonEl =\n",
              "          document.querySelector('#df-6b9651c2-cec5-4ca5-8bd6-bb0b29313290 button.colab-df-convert');\n",
              "        buttonEl.style.display =\n",
              "          google.colab.kernel.accessAllowed ? 'block' : 'none';\n",
              "\n",
              "        async function convertToInteractive(key) {\n",
              "          const element = document.querySelector('#df-6b9651c2-cec5-4ca5-8bd6-bb0b29313290');\n",
              "          const dataTable =\n",
              "            await google.colab.kernel.invokeFunction('convertToInteractive',\n",
              "                                                     [key], {});\n",
              "          if (!dataTable) return;\n",
              "\n",
              "          const docLinkHtml = 'Like what you see? Visit the ' +\n",
              "            '<a target=\"_blank\" href=https://colab.research.google.com/notebooks/data_table.ipynb>data table notebook</a>'\n",
              "            + ' to learn more about interactive tables.';\n",
              "          element.innerHTML = '';\n",
              "          dataTable['output_type'] = 'display_data';\n",
              "          await google.colab.output.renderOutput(dataTable, element);\n",
              "          const docLink = document.createElement('div');\n",
              "          docLink.innerHTML = docLinkHtml;\n",
              "          element.appendChild(docLink);\n",
              "        }\n",
              "      </script>\n",
              "    </div>\n",
              "  </div>\n",
              "  "
            ]
          },
          "metadata": {},
          "execution_count": 3
        }
      ]
    },
    {
      "cell_type": "code",
      "source": [
        "sample.info()"
      ],
      "metadata": {
        "colab": {
          "base_uri": "https://localhost:8080/"
        },
        "id": "uAhDNa-TvoXI",
        "outputId": "5ee06799-ef57-4a9e-f031-2a9449be6006"
      },
      "execution_count": null,
      "outputs": [
        {
          "output_type": "stream",
          "name": "stdout",
          "text": [
            "<class 'pandas.core.frame.DataFrame'>\n",
            "RangeIndex: 276 entries, 0 to 275\n",
            "Data columns (total 2 columns):\n",
            " #   Column  Non-Null Count  Dtype  \n",
            "---  ------  --------------  -----  \n",
            " 0   id      276 non-null    int64  \n",
            " 1   target  276 non-null    float64\n",
            "dtypes: float64(1), int64(1)\n",
            "memory usage: 4.4 KB\n"
          ]
        }
      ]
    },
    {
      "cell_type": "code",
      "source": [
        "from xgboost import XGBRegressor\n",
        "\n",
        "x=train.drop(['id','target'],axis=1)\n",
        "y=train['target']\n",
        "\n",
        "mx=test.drop(['id'],axis=1)\n",
        "\n",
        "xgr=XGBRegressor()\n",
        "xgr.fit(x,y)\n",
        "pre=xgr.predict(mx)"
      ],
      "metadata": {
        "id": "0s8MtrRWvyIw"
      },
      "execution_count": null,
      "outputs": []
    },
    {
      "cell_type": "code",
      "source": [
        "from lightgbm import LGBMRegressor\n",
        "\n",
        "x=train.drop(['id','target'],axis=1)\n",
        "y=train['target']\n",
        "\n",
        "mx=test.drop(['id'],axis=1)\n",
        "\n",
        "lgr=LGBMRegressor()\n",
        "lgr.fit(x,y)\n",
        "pre1=lgr.predict(mx)"
      ],
      "metadata": {
        "id": "CYzfKaeRvygw"
      },
      "execution_count": null,
      "outputs": []
    },
    {
      "cell_type": "code",
      "source": [
        "from sklearn.ensemble import RandomForestRegressor\n",
        "\n",
        "x=train.drop(['id','target'],axis=1)\n",
        "y=train['target']\n",
        "\n",
        "mx=test.drop(['id'],axis=1)\n",
        "\n",
        "rfr=RandomForestRegressor()\n",
        "rfr.fit(x,y)\n",
        "pre2=rfr.predict(mx)"
      ],
      "metadata": {
        "id": "YQEp-NnBvyr2"
      },
      "execution_count": null,
      "outputs": []
    },
    {
      "cell_type": "code",
      "source": [
        "from sklearn.ensemble import RandomForestClassifier\n",
        "\n",
        "x=train.drop(['id','target'],axis=1)\n",
        "y=train['target']\n",
        "\n",
        "mx=test.drop(['id'],axis=1)\n",
        "\n",
        "rfc=RandomForestClassifier()\n",
        "rfc.fit(x,y)\n",
        "pre3=rfc.predict(mx)"
      ],
      "metadata": {
        "id": "YR58diIbz_CQ"
      },
      "execution_count": null,
      "outputs": []
    },
    {
      "cell_type": "code",
      "source": [
        "from sklearn.metrics import mean_squared_error,mean_absolute_error,mean_absolute_percentage_error\n",
        "\n",
        "val=sample['target']\n",
        "\n",
        "print('XGBOOST')\n",
        "print('mean absolute',mean_absolute_error(val,pre))\n",
        "print('mean squared',mean_squared_error(val,pre))\n",
        "print('mean absolute percentage error',mean_absolute_percentage_error(val,pre))\n",
        "print('rmse',np.sqrt(mean_squared_error(val,pre)))\n",
        "\n",
        "print('LGBM')\n",
        "print('mean absolute',mean_absolute_error(val,pre1))\n",
        "print('mean squared',mean_squared_error(val,pre1))\n",
        "print('mean absolute percentage error',mean_absolute_percentage_error(val,pre1))\n",
        "print('rmse',np.sqrt(mean_squared_error(val,pre1)))\n",
        "\n",
        "print('RF REGRESSOR')\n",
        "\n",
        "print('mean absolute',mean_absolute_error(val,pre2))\n",
        "print('mean squared',mean_squared_error(val,pre2))\n",
        "print('mean absolute percentage error',mean_absolute_error(val,pre2))\n",
        "print('rmse',np.sqrt(mean_squared_error(val,pre2)))\n",
        "\n",
        "print('RF CLASIFIER')\n",
        "print('mean absolute',mean_absolute_error(val,pre3))\n",
        "print('mean squared',mean_squared_error(val,pre3))\n",
        "print('mean absolute percentage error',mean_absolute_percentage_error(val,pre3))\n",
        "print('rmse',np.sqrt(mean_squared_error(val,pre3)))"
      ],
      "metadata": {
        "colab": {
          "base_uri": "https://localhost:8080/"
        },
        "id": "pQg7hk_o1Oc_",
        "outputId": "c91ed884-fa26-4e75-9e66-83ce58318795"
      },
      "execution_count": null,
      "outputs": [
        {
          "output_type": "stream",
          "name": "stdout",
          "text": [
            "XGBOOST\n",
            "mean absolute 0.32916511992411013\n",
            "mean squared 0.14280476002809261\n",
            "mean absolute percentage error 0.6583302398482203\n",
            "rmse 0.37789517068638573\n",
            "LGBM\n",
            "mean absolute 0.3009635570288349\n",
            "mean squared 0.1216990735753649\n",
            "mean absolute percentage error 0.6019271140576699\n",
            "rmse 0.34885394304115996\n",
            "RF REGRESSOR\n",
            "mean absolute 0.26380434782608697\n",
            "mean squared 0.09506702898550724\n",
            "mean absolute percentage error 0.5276086956521739\n",
            "rmse 0.3083294163480145\n",
            "RF CLASIFIER\n",
            "mean absolute 0.5\n",
            "mean squared 0.25\n",
            "mean absolute percentage error 1.0\n",
            "rmse 0.5\n"
          ]
        }
      ]
    }
  ]
}